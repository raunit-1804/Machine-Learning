{
 "cells": [
  {
   "cell_type": "code",
   "execution_count": null,
   "metadata": {},
   "outputs": [],
   "source": [
    "## import numpy as np\n",
    "from sklearn import model_selection\n",
    "data = np.genfromtxt(\"/Users/raunitsingh/Downloads/Train.csv\", delimiter = \",\")\n",
    "x_train = data[:,0 : 10]\n",
    "print(x_train.shape)\n",
    "y_train = data[:, 10]\n",
    "from sklearn.linear_model import LinearRegression\n",
    "alg1 = LinearRegression()\n",
    "alg1.fit(x_train, y_train)\n",
    "\n",
    "def prediction(x_train, alg1coef , alg1intercept):\n",
    "    coeff = np.asmatrix(alg1coef).T\n",
    "    xMatrix = np.asmatrix(x_train)\n",
    "    y_pred = np.squeeze(np.asarray(xMatrix*coeff))\n",
    "    y_pred = y_pred + alg1intercept\n",
    "    return y_pred\n",
    "\n",
    "def cd(y_truth, y_pred):\n",
    "    u = ((y_truth - y_pred)**2).sum()\n",
    "    v =((y_truth-y_truth.mean())**2).sum()\n",
    "    return 1-u/v\n",
    "\n",
    "y_pred1 = prediction(x_train, alg1.coef_ , alg1.intercept_)\n",
    "score = cd(y_truth, y_pred1)\n",
    "\n",
    "data2 = np.genfromtxt(\"/Users/raunitsingh/Downloads/Test.csv\", delimiter = \",\")\n",
    "data2.shape\n",
    "x_test = data2[:,0:10]\n",
    "\n",
    "y_pred2 = prediction(x_test, alg1.coef_ , alg1.intercept_)\n",
    "np.savetxt('TestOutput.csv', y_pred2, fmt= '%.5f')"
   ]
  },
  {
   "cell_type": "code",
   "execution_count": null,
   "metadata": {},
   "outputs": [],
   "source": []
  },
  {
   "cell_type": "code",
   "execution_count": null,
   "metadata": {},
   "outputs": [],
   "source": []
  },
  {
   "cell_type": "code",
   "execution_count": null,
   "metadata": {},
   "outputs": [],
   "source": []
  },
  {
   "cell_type": "code",
   "execution_count": null,
   "metadata": {},
   "outputs": [],
   "source": []
  }
 ],
 "metadata": {
  "kernelspec": {
   "display_name": "Python 3",
   "language": "python",
   "name": "python3"
  },
  "language_info": {
   "codemirror_mode": {
    "name": "ipython",
    "version": 3
   },
   "file_extension": ".py",
   "mimetype": "text/x-python",
   "name": "python",
   "nbconvert_exporter": "python",
   "pygments_lexer": "ipython3",
   "version": "3.6.5"
  }
 },
 "nbformat": 4,
 "nbformat_minor": 2
}
