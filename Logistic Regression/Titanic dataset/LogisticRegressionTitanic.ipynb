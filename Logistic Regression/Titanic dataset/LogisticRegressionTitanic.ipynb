{
 "cells": [
  {
   "cell_type": "code",
   "execution_count": 47,
   "metadata": {},
   "outputs": [],
   "source": [
    "import pandas as pd\n",
    "import numpy as np"
   ]
  },
  {
   "cell_type": "code",
   "execution_count": 48,
   "metadata": {},
   "outputs": [],
   "source": [
    "def run():\n",
    "    titanic = pd.read_csv(\"/Users/raunitsingh/Downloads/0000000000002429_training_titanic_x_y_train.csv\")\n",
    "    df = titanic.copy()\n",
    "    del df[\"Name\"]\n",
    "    del df[\"Cabin\"]\n",
    "    a = df[df.Survived == 1].Age.mean()\n",
    "    df.Age.fillna(a, inplace = True)\n",
    "    def f(s):\n",
    "        if(s == \"female\"):\n",
    "            return 1\n",
    "        else:\n",
    "            return 0\n",
    "    \n",
    "    def g(s):\n",
    "        if(s == 'C'):\n",
    "            return 0\n",
    "        elif(s == 'Q'):\n",
    "            return 1\n",
    "        else:\n",
    "            return 2\n",
    "    \n",
    "    del df[\"Ticket\"]\n",
    "    df[\"Embarked\"] = df.Embarked.apply(g)\n",
    "    df[\"Sex\"] = df.Sex.apply(f)\n",
    "    data = np.array(df)\n",
    "    print(df.head())\n",
    "    X_train = data[:, 0: data.shape[1] - 1]\n",
    "    Y_train = data[:, data.shape[1] - 1]\n",
    "    from sklearn.linear_model import LogisticRegression\n",
    "    from sklearn import model_selection\n",
    "    clf = LogisticRegression()\n",
    "    clf.fit(X_train, Y_train)\n",
    "    clf.score(X_train, Y_train)\n",
    "    return clf"
   ]
  },
  {
   "cell_type": "code",
   "execution_count": 49,
   "metadata": {},
   "outputs": [
    {
     "name": "stdout",
     "output_type": "stream",
     "text": [
      "   Pclass  Sex        Age  SibSp  Parch    Fare  Embarked  Survived\n",
      "0       2    1  29.000000      1      0  26.000         2         1\n",
      "1       3    0  28.138158      0      0   8.050         2         0\n",
      "2       2    0  39.000000      0      0  26.000         2         0\n",
      "3       3    1  29.000000      0      4  21.075         2         0\n",
      "4       3    0  25.000000      0      0   7.050         2         0\n"
     ]
    }
   ],
   "source": [
    "clf = run()\n",
    "\n",
    "df2 = titanic2.copy()\n",
    "del df2[\"Name\"]\n",
    "del df2[\"Cabin\"]\n",
    "a2 = df2.Age.mean()\n",
    "df2.Age.fillna(a2, inplace = True)\n",
    "df2[\"Embarked\"] = df2.Embarked.apply(g)\n",
    "del df2[\"Ticket\"]\n",
    "df2[\"Sex\"] = df2.Sex.apply(f)\n",
    "data2 = np.array(df2)\n",
    "X_test = data2[:, 0: data2.shape[1]]\n",
    "Y_pred = clf.predict(X_test)\n",
    "np.savetxt(\"LogisticTitanicPredictions.csv\", Y_pred, fmt = '%.0f')"
   ]
  },
  {
   "cell_type": "code",
   "execution_count": null,
   "metadata": {},
   "outputs": [],
   "source": []
  },
  {
   "cell_type": "code",
   "execution_count": null,
   "metadata": {},
   "outputs": [],
   "source": []
  }
 ],
 "metadata": {
  "kernelspec": {
   "display_name": "Python 3",
   "language": "python",
   "name": "python3"
  },
  "language_info": {
   "codemirror_mode": {
    "name": "ipython",
    "version": 3
   },
   "file_extension": ".py",
   "mimetype": "text/x-python",
   "name": "python",
   "nbconvert_exporter": "python",
   "pygments_lexer": "ipython3",
   "version": "3.6.5"
  }
 },
 "nbformat": 4,
 "nbformat_minor": 2
}
