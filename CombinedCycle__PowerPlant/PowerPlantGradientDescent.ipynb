{
 "cells": [
  {
   "cell_type": "code",
   "execution_count": null,
   "metadata": {},
   "outputs": [],
   "source": []
  },
  {
   "cell_type": "code",
   "execution_count": 17,
   "metadata": {},
   "outputs": [
    {
     "name": "stdout",
     "output_type": "stream",
     "text": [
      "[471.1248095  470.88842255 436.36044177 ... 438.22784335 456.85830898\n",
      " 444.67037051]\n"
     ]
    }
   ],
   "source": [
    "import numpy as np\n",
    "\n",
    "data=np.genfromtxt('/Users/raunitsingh/Downloads/0000000000002419_training_ccpp_x_y_train.csv',delimiter=',')\n",
    "x_train=data[:,0 : 4]\n",
    "y_train=data[:, 4]\n",
    "\n",
    "\n",
    "data1=np.genfromtxt('/Users/raunitsingh/Downloads/0000000000002419_test_ccpp_x_test.csv',delimiter=',')\n",
    "x_test=data1[:, 0 : 4]\n",
    "\n",
    "from sklearn import ensemble\n",
    "algo=ensemble.GradientBoostingRegressor(learning_rate=0.15,n_estimators = 5000)\n",
    "algo.fit(x_train,y_train)\n",
    "\n",
    "y_pred=algo.predict(x_test)\n",
    "print(y_pred)\n",
    "np.savetxt('PowerPlantGradientPredections.csv', y_pred, fmt='%.5f')"
   ]
  },
  {
   "cell_type": "code",
   "execution_count": null,
   "metadata": {},
   "outputs": [],
   "source": []
  }
 ],
 "metadata": {
  "kernelspec": {
   "display_name": "Python 3",
   "language": "python",
   "name": "python3"
  },
  "language_info": {
   "codemirror_mode": {
    "name": "ipython",
    "version": 3
   },
   "file_extension": ".py",
   "mimetype": "text/x-python",
   "name": "python",
   "nbconvert_exporter": "python",
   "pygments_lexer": "ipython3",
   "version": "3.6.5"
  }
 },
 "nbformat": 4,
 "nbformat_minor": 2
}
